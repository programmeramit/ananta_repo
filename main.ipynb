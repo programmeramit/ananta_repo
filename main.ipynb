{
 "cells": [
  {
   "cell_type": "code",
   "execution_count": 2,
   "metadata": {},
   "outputs": [],
   "source": [
    "import tensorflow as tf\n",
    "from tensorflow.keras.models import load_model\n",
    "from tensorflow.keras.preprocessing.image import load_img, img_to_array\n",
    "from tensorflow.keras.applications.mobilenet_v3 import preprocess_input\n",
    "import numpy as np\n",
    "import matplotlib.pyplot as plt\n",
    "import requests\n",
    "from PIL import Image\n",
    "from io import BytesIO"
   ]
  },
  {
   "cell_type": "code",
   "execution_count": 4,
   "metadata": {},
   "outputs": [
    {
     "name": "stderr",
     "output_type": "stream",
     "text": [
      "2025-05-05 16:10:05.317024: E external/local_xla/xla/stream_executor/cuda/cuda_platform.cc:51] failed call to cuInit: INTERNAL: CUDA error: Failed call to cuInit: UNKNOWN ERROR (303)\n"
     ]
    }
   ],
   "source": [
    "model = load_model('model.keras')\n"
   ]
  },
  {
   "cell_type": "code",
   "execution_count": 9,
   "metadata": {},
   "outputs": [
    {
     "ename": "SyntaxError",
     "evalue": "incomplete input (4084106771.py, line 50)",
     "output_type": "error",
     "traceback": [
      "  \u001b[36mCell\u001b[39m\u001b[36m \u001b[39m\u001b[32mIn[9]\u001b[39m\u001b[32m, line 50\u001b[39m\n\u001b[31m    \u001b[39m\n    ^\n\u001b[31mSyntaxError\u001b[39m\u001b[31m:\u001b[39m incomplete input\n"
     ]
    }
   ],
   "source": [
    "def predict_from_url(url):\n",
    "    try:\n",
    "        # Download gambar dari URL\n",
    "        response = requests.get(url)\n",
    "        img = Image.open(BytesIO(response.content))\n",
    "        \n",
    "        # Pastikan resize ke dimensi yang tepat (512x384)\n",
    "        target_size = (512, 384)\n",
    "        img_resized = img.resize(target_size, Image.Resampling.LANCZOS)\n",
    "        \n",
    "        # Konversi ke array dengan dimensi yang benar\n",
    "        img_array = img_to_array(img_resized)\n",
    "        \n",
    "        # Pastikan shape sesuai dengan yang diharapkan model\n",
    "        if img_array.shape != (384, 512, 3):\n",
    "            img_array = img_array.reshape(384, 512, 3)\n",
    "            \n",
    "        img_array = np.expand_dims(img_array, axis=0)\n",
    "        img_array = preprocess_input(img_array)\n",
    "        \n",
    "        # Sesuaikan dimensi akhir\n",
    "        if img_array.shape != (1, 512, 384, 3):\n",
    "            img_array = np.transpose(img_array, (0, 2, 1, 3))\n",
    "            predictions = model.predict(img_array)\n",
    "        \n",
    "        # Label kelas sesuai dengan struktur folder\n",
    "        class_labels = ['cardboard', 'glass', 'metal', 'paper', 'plastic', 'trash']\n",
    "        predicted_class = class_labels[np.argmax(predictions[0])]\n",
    "        confidence = np.max(predictions[0])\n",
    "        \n",
    "        # Tampilkan gambar dan hasil prediksi\n",
    "        plt.figure(figsize=(10, 6))\n",
    "        plt.subplot(1, 2, 1)\n",
    "        plt.imshow(img)\n",
    "        plt.title('Original Image')\n",
    "        plt.axis('off')\n",
    "        \n",
    "        plt.subplot(1, 2, 2)\n",
    "        plt.imshow(img_resized)\n",
    "        plt.title(f'Resized Image\\nPredicted: {predicted_class}\\nConfidence: {confidence:.2%}')\n",
    "\n",
    "        plt.axis('off')\n",
    "        plt.show()\n",
    "        \n",
    "        # Tampilkan probabilitas untuk setiap kelas\n",
    "        print(\"\\nProbabilitas untuk setiap kelas:\")\n",
    "        for label, prob in zip(class_labels, predictions[0]):\n",
    "            print(f\"{label}: {prob:.2%}\")\n",
    "            \n",
    "    except Exception as e:\n",
    "        print(f\"Error: {str(e)}\")"
   ]
  }
 ],
 "metadata": {
  "kernelspec": {
   "display_name": "env",
   "language": "python",
   "name": "python3"
  },
  "language_info": {
   "codemirror_mode": {
    "name": "ipython",
    "version": 3
   },
   "file_extension": ".py",
   "mimetype": "text/x-python",
   "name": "python",
   "nbconvert_exporter": "python",
   "pygments_lexer": "ipython3",
   "version": "3.12.8"
  }
 },
 "nbformat": 4,
 "nbformat_minor": 2
}
